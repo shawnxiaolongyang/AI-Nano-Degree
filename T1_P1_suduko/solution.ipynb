{
 "cells": [
  {
   "cell_type": "code",
   "execution_count": 14,
   "metadata": {
    "collapsed": true,
    "deletable": true,
    "editable": true
   },
   "outputs": [],
   "source": [
    "assignments = []"
   ]
  },
  {
   "cell_type": "code",
   "execution_count": 15,
   "metadata": {
    "collapsed": true,
    "deletable": true,
    "editable": true
   },
   "outputs": [],
   "source": [
    "def assign_value(values, box, value):\n",
    "    \"\"\"\n",
    "    Please use this function to update your values dictionary!\n",
    "    Assigns a value to a given box. If it updates the board record it.\n",
    "    \"\"\"\n",
    "\n",
    "    # Don't waste memory appending actions that don't actually change any values\n",
    "    if values[box] == value:\n",
    "        return values\n",
    "\n",
    "    values[box] = value\n",
    "    if len(value) == 1:\n",
    "        assignments.append(values.copy())\n",
    "    return values"
   ]
  },
  {
   "cell_type": "code",
   "execution_count": 16,
   "metadata": {
    "collapsed": true,
    "deletable": true,
    "editable": true
   },
   "outputs": [],
   "source": [
    "def naked_twins(values):\n",
    "    \"\"\"Eliminate values using the naked twins strategy.\n",
    "    Args:\n",
    "        values(dict): a dictionary of the form {'box_name': '123456789', ...}\n",
    "\n",
    "    Returns:\n",
    "        the values dictionary with the naked twins eliminated from peers.\n",
    "    \"\"\"\n",
    "\n",
    "    # Find all instances of naked twins\n",
    "    potential_values = [box for box in values.keys() if len(values[box]) == 2]\n",
    "    twins = [(box1,box2) for box1 in potential_values \\\n",
    "             for box2 in peers[box1] \\\n",
    "             if set(values[box1]) == set(values[box2])]\n",
    "    # Eliminate the naked twins as possibilities for their peers\n",
    "    \n",
    "    for box1, box2 in twins:\n",
    "        intersec_peers = peers[box1] & peers[box2] \n",
    "        for i_p_box in intersec_peers:\n",
    "            if len(values[i_p_box])>1:\n",
    "                for rm_val in values[box1]:\n",
    "                    values = assign_value(values, i_p_box, values[i_p_box].replace(rm_val,''))\n",
    "    return values\n"
   ]
  },
  {
   "cell_type": "code",
   "execution_count": 17,
   "metadata": {
    "collapsed": false,
    "deletable": true,
    "editable": true
   },
   "outputs": [],
   "source": [
    "rows = 'ABCDEFGHI'\n",
    "cols = '123456789'\n",
    "\n",
    "def cross(a, b):\n",
    "    return [s+t for s in a for t in b]\n",
    "\n",
    "boxes = cross(rows, cols)\n",
    "\n",
    "row_units = [cross(r, cols) for r in rows]\n",
    "column_units = [cross(rows, c) for c in cols] \n",
    "diagonal_units = [[rows[i]+cols[i] for i in range(9)], \\\n",
    "                 [rows[i]+cols[-i-1] for i in range(9)]]\n",
    "square_units = [cross(rs, cs) for rs in ('ABC','DEF','GHI') for cs in ('123','456','789')]\n",
    "unitlist = row_units + column_units + square_units + diagonal_units\n",
    "units = dict((s, [u for u in unitlist if s in u]) for s in boxes)\n",
    "peers = dict((s, set(sum(units[s],[]))-set([s])) for s in boxes)"
   ]
  },
  {
   "cell_type": "code",
   "execution_count": 18,
   "metadata": {
    "collapsed": false,
    "deletable": true,
    "editable": true
   },
   "outputs": [],
   "source": [
    "#print(diagonal_units)"
   ]
  },
  {
   "cell_type": "code",
   "execution_count": 19,
   "metadata": {
    "collapsed": false,
    "deletable": true,
    "editable": true
   },
   "outputs": [],
   "source": [
    "#units"
   ]
  },
  {
   "cell_type": "code",
   "execution_count": 20,
   "metadata": {
    "collapsed": true,
    "deletable": true,
    "editable": true
   },
   "outputs": [],
   "source": [
    "def grid_values(grid):\n",
    "    \"\"\"\n",
    "    Convert grid into a dict of {square: char} with '123456789' for empties.\n",
    "    Input: A grid in string form.\n",
    "    Output: A grid in dictionary form\n",
    "            Keys: The boxes, e.g., 'A1'\n",
    "            Values: The value in each box, e.g., '8'. \n",
    "            If the box has no value, then the value will be '123456789'.\n",
    "    \"\"\"\n",
    "    chars = []\n",
    "    digits = '123456789'\n",
    "    for c in grid:\n",
    "        if c in digits:\n",
    "            chars.append(c)\n",
    "        if c == '.':\n",
    "            chars.append(digits)\n",
    "    assert len(chars) == 81\n",
    "    return dict(zip(boxes, chars))"
   ]
  },
  {
   "cell_type": "code",
   "execution_count": 21,
   "metadata": {
    "collapsed": true,
    "deletable": true,
    "editable": true
   },
   "outputs": [],
   "source": [
    "def display(values):\n",
    "    \"\"\"\n",
    "    Display the values as a 2-D grid.\n",
    "    Input: The sudoku in dictionary form\n",
    "    Output: None\n",
    "    \"\"\"\n",
    "    width = 1+max(len(values[s]) for s in boxes)\n",
    "    line = '+'.join(['-'*(width*3)]*3)\n",
    "    for r in rows:\n",
    "        print(''.join(values[r+c].center(width)+('|' if c in '36' else '')\n",
    "                      for c in cols))\n",
    "        if r in 'CF': print(line)\n",
    "    return\n",
    "    return values"
   ]
  },
  {
   "cell_type": "code",
   "execution_count": 22,
   "metadata": {
    "collapsed": true,
    "deletable": true,
    "editable": true
   },
   "outputs": [],
   "source": [
    "def eliminate(values):\n",
    "    \"\"\"\n",
    "    Go through all the boxes, and whenever there is a box with a value, eliminate this value from the values of all its peers.\n",
    "    Input: A sudoku in dictionary form.\n",
    "    Output: The resulting sudoku in dictionary form.\n",
    "    \"\"\"\n",
    "    solved_values = [box for box in values.keys() if len(values[box]) == 1]\n",
    "    for box in solved_values:\n",
    "        digit = values[box]\n",
    "        for peer in peers[box]:\n",
    "            #values[peer] = values[peer].replace(digit,'')\n",
    "            values = assign_value(values, peer, values[peer].replace(digit,''))\n",
    "    return values"
   ]
  },
  {
   "cell_type": "code",
   "execution_count": 23,
   "metadata": {
    "collapsed": true,
    "deletable": true,
    "editable": true
   },
   "outputs": [],
   "source": [
    "def only_choice(values):\n",
    "    \"\"\"\n",
    "    Go through all the units, and whenever there is a unit with a value that only fits in one box, assign the value to this box.\n",
    "    Input: A sudoku in dictionary form.\n",
    "    Output: The resulting sudoku in dictionary form.\n",
    "    \"\"\"\n",
    "    for unit in unitlist:\n",
    "        for digit in '123456789':\n",
    "            dplaces = [box for box in unit if digit in values[box]]\n",
    "            if len(dplaces) == 1:\n",
    "                #values[dplaces[0]] = digit\n",
    "                values = assign_value(values, dplaces[0], digit)\n",
    "    return values"
   ]
  },
  {
   "cell_type": "code",
   "execution_count": 24,
   "metadata": {
    "collapsed": true,
    "deletable": true,
    "editable": true
   },
   "outputs": [],
   "source": [
    "def reduce_puzzle(values):\n",
    "    \"\"\"\n",
    "    Iterate eliminate() and only_choice(). If at some point, there is a box with no available values, return False.\n",
    "    If the sudoku is solved, return the sudoku.\n",
    "    If after an iteration of both functions, the sudoku remains the same, return the sudoku.\n",
    "    Input: A sudoku in dictionary form.\n",
    "    Output: The resulting sudoku in dictionary form.\n",
    "    \"\"\"\n",
    "    solved_values = [box for box in values.keys() if len(values[box]) == 1]\n",
    "    stalled = False\n",
    "    while not stalled:\n",
    "        solved_values_before = len([box for box in values.keys() if len(values[box]) == 1])\n",
    "        values = eliminate(values)\n",
    "        values = only_choice(values)\n",
    "        values = naked_twins(values)\n",
    "        \n",
    "        solved_values_after = len([box for box in values.keys() if len(values[box]) == 1])\n",
    "        stalled = solved_values_before == solved_values_after\n",
    "        if len([box for box in values.keys() if len(values[box]) == 0]):\n",
    "            return False\n",
    "    return values"
   ]
  },
  {
   "cell_type": "code",
   "execution_count": 25,
   "metadata": {
    "collapsed": true
   },
   "outputs": [],
   "source": [
    "def search(values):\n",
    "    \"Using depth-first search and propagation, create a search tree and solve the sudoku.\"\n",
    "    # First, reduce the puzzle using the previous function\n",
    "    values = reduce_puzzle(values)\n",
    "    if values == False:\n",
    "        return False\n",
    "\n",
    "    if all(len(values[s]) == 1 for s in boxes):\n",
    "        return values ## Solved!\n",
    "\n",
    "    n,s = min((len(values[s]), s) for s in boxes if len(values[s]) > 1)\n",
    "    for value in values[s]:\n",
    "        new_sudoku = values.copy()\n",
    "        new_sudoku[s] = value\n",
    "        attempt = search(new_sudoku)\n",
    "        if attempt:\n",
    "            return attempt"
   ]
  },
  {
   "cell_type": "code",
   "execution_count": 26,
   "metadata": {
    "collapsed": true,
    "deletable": true,
    "editable": true
   },
   "outputs": [],
   "source": [
    "def solve(grid):\n",
    "    \"\"\"\n",
    "    Find the solution to a Sudoku grid.\n",
    "    Args:\n",
    "        grid(string): a string representing a sudoku grid.\n",
    "            Example: '2.............62....1....7...6..8...3...9...7...6..4...4....8....52.............3'\n",
    "    Returns:\n",
    "        The dictionary representation of the final sudoku grid. False if no solution exists.\n",
    "    \"\"\"\n",
    "    values = grid_values(grid)\n",
    "    values = search(values)\n",
    "\n",
    "    return values"
   ]
  },
  {
   "cell_type": "code",
   "execution_count": 27,
   "metadata": {
    "collapsed": false,
    "deletable": true,
    "editable": true
   },
   "outputs": [
    {
     "name": "stdout",
     "output_type": "stream",
     "text": [
      "9 6 1 |3 5 4 |2 8 7 \n",
      "8 3 5 |2 7 6 |1 4 9 \n",
      "2 7 4 |8 9 1 |3 6 5 \n",
      "------+------+------\n",
      "4 2 7 |1 3 8 |9 5 6 \n",
      "5 8 3 |9 6 2 |7 1 4 \n",
      "6 1 9 |5 4 7 |8 3 2 \n",
      "------+------+------\n",
      "3 4 2 |6 8 9 |5 7 1 \n",
      "7 9 8 |4 1 5 |6 2 3 \n",
      "1 5 6 |7 2 3 |4 9 8 \n",
      "We could not visualize your board due to a pygame issue. Not a problem! It is not a requirement.\n"
     ]
    }
   ],
   "source": [
    "if __name__ == '__main__':\n",
    "    diag_sudoku_grid = '9.1....8.8.5.7..4.2.4....6...7......5..............83.3..6......9................'\n",
    "    display(solve(diag_sudoku_grid))\n",
    "\n",
    "    try:\n",
    "        from visualize import visualize_assignments\n",
    "        visualize_assignments(assignments)\n",
    "\n",
    "    except SystemExit:\n",
    "        pass\n",
    "    except:\n",
    "        print('We could not visualize your board due to a pygame issue. Not a problem! It is not a requirement.')"
   ]
  },
  {
   "cell_type": "code",
   "execution_count": null,
   "metadata": {
    "collapsed": true,
    "deletable": true,
    "editable": true
   },
   "outputs": [],
   "source": []
  }
 ],
 "metadata": {
  "kernelspec": {
   "display_name": "Python 3",
   "language": "python",
   "name": "python3"
  },
  "language_info": {
   "codemirror_mode": {
    "name": "ipython",
    "version": 3
   },
   "file_extension": ".py",
   "mimetype": "text/x-python",
   "name": "python",
   "nbconvert_exporter": "python",
   "pygments_lexer": "ipython3",
   "version": "3.6.0"
  }
 },
 "nbformat": 4,
 "nbformat_minor": 2
}
