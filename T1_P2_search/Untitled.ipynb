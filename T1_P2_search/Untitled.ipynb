{
 "cells": [
  {
   "cell_type": "code",
   "execution_count": 1,
   "metadata": {
    "collapsed": true
   },
   "outputs": [],
   "source": [
    "from isolation import Board"
   ]
  },
  {
   "cell_type": "code",
   "execution_count": 2,
   "metadata": {
    "collapsed": true
   },
   "outputs": [],
   "source": [
    "from sample_players import RandomPlayer"
   ]
  },
  {
   "cell_type": "code",
   "execution_count": 3,
   "metadata": {
    "collapsed": true
   },
   "outputs": [],
   "source": [
    "from sample_players import GreedyPlayer"
   ]
  },
  {
   "cell_type": "markdown",
   "metadata": {},
   "source": [
    "create an isolation board (by default 7x7)"
   ]
  },
  {
   "cell_type": "code",
   "execution_count": 4,
   "metadata": {
    "collapsed": true
   },
   "outputs": [],
   "source": [
    "player1 = RandomPlayer()"
   ]
  },
  {
   "cell_type": "code",
   "execution_count": 8,
   "metadata": {
    "collapsed": true
   },
   "outputs": [],
   "source": [
    "player2 = GreedyPlayer()"
   ]
  },
  {
   "cell_type": "code",
   "execution_count": 9,
   "metadata": {
    "collapsed": true
   },
   "outputs": [],
   "source": [
    "game = Board(player1, player2)"
   ]
  },
  {
   "cell_type": "markdown",
   "metadata": {},
   "source": [
    "place player 1 on the board at row 2, column 3, then place player 2 on the board at row 0, column 5; display the resulting board state.  Note that the .apply_move() method changes the calling object in-place."
   ]
  },
  {
   "cell_type": "code",
   "execution_count": 10,
   "metadata": {
    "collapsed": true
   },
   "outputs": [],
   "source": [
    "game.apply_move((2, 3))"
   ]
  },
  {
   "cell_type": "code",
   "execution_count": 11,
   "metadata": {
    "collapsed": true
   },
   "outputs": [],
   "source": [
    "game.apply_move((0, 5))"
   ]
  },
  {
   "cell_type": "code",
   "execution_count": 12,
   "metadata": {
    "collapsed": false
   },
   "outputs": [
    {
     "name": "stdout",
     "output_type": "stream",
     "text": [
      "     0   1   2   3   4   5   6\n",
      "\r",
      "0  |   |   |   |   |   | 2 |   | \n",
      "\r",
      "1  |   |   |   |   |   |   |   | \n",
      "\r",
      "2  |   |   |   | 1 |   |   |   | \n",
      "\r",
      "3  |   |   |   |   |   |   |   | \n",
      "\r",
      "4  |   |   |   |   |   |   |   | \n",
      "\r",
      "5  |   |   |   |   |   |   |   | \n",
      "\r",
      "6  |   |   |   |   |   |   |   | \n",
      "\r\n"
     ]
    }
   ],
   "source": [
    "print(game.to_string())"
   ]
  },
  {
   "cell_type": "markdown",
   "metadata": {},
   "source": [
    "players take turns moving on the board, so player1 should be next to move"
   ]
  },
  {
   "cell_type": "code",
   "execution_count": 16,
   "metadata": {
    "collapsed": false
   },
   "outputs": [],
   "source": [
    "assert(player1 == game.active_player)"
   ]
  },
  {
   "cell_type": "markdown",
   "metadata": {},
   "source": [
    "get a list of the legal moves available to the active player"
   ]
  },
  {
   "cell_type": "code",
   "execution_count": 17,
   "metadata": {
    "collapsed": false
   },
   "outputs": [
    {
     "name": "stdout",
     "output_type": "stream",
     "text": [
      "[(4, 2), (0, 2), (3, 1), (4, 4), (1, 1), (0, 4), (3, 5), (1, 5)]\n"
     ]
    }
   ],
   "source": [
    "print(game.get_legal_moves())"
   ]
  },
  {
   "cell_type": "markdown",
   "metadata": {},
   "source": [
    "get a successor of the current state by making a copy of the board and applying a move. Notice that this does NOT change the calling object"
   ]
  },
  {
   "cell_type": "code",
   "execution_count": 18,
   "metadata": {
    "collapsed": true
   },
   "outputs": [],
   "source": [
    "new_game = game.forecast_move((1, 1))"
   ]
  },
  {
   "cell_type": "code",
   "execution_count": 19,
   "metadata": {
    "collapsed": true
   },
   "outputs": [],
   "source": [
    "assert(new_game.to_string() != game.to_string())"
   ]
  },
  {
   "cell_type": "code",
   "execution_count": 20,
   "metadata": {
    "collapsed": false
   },
   "outputs": [
    {
     "name": "stdout",
     "output_type": "stream",
     "text": [
      "\n",
      "Old state:\n",
      "     0   1   2   3   4   5   6\n",
      "\r",
      "0  |   |   |   |   |   | 2 |   | \n",
      "\r",
      "1  |   |   |   |   |   |   |   | \n",
      "\r",
      "2  |   |   |   | 1 |   |   |   | \n",
      "\r",
      "3  |   |   |   |   |   |   |   | \n",
      "\r",
      "4  |   |   |   |   |   |   |   | \n",
      "\r",
      "5  |   |   |   |   |   |   |   | \n",
      "\r",
      "6  |   |   |   |   |   |   |   | \n",
      "\r\n"
     ]
    }
   ],
   "source": [
    "print(\"\\nOld state:\\n{}\".format(game.to_string()))"
   ]
  },
  {
   "cell_type": "code",
   "execution_count": 21,
   "metadata": {
    "collapsed": false
   },
   "outputs": [
    {
     "name": "stdout",
     "output_type": "stream",
     "text": [
      "\n",
      "New state:\n",
      "     0   1   2   3   4   5   6\n",
      "\r",
      "0  |   |   |   |   |   | 2 |   | \n",
      "\r",
      "1  |   | 1 |   |   |   |   |   | \n",
      "\r",
      "2  |   |   |   | - |   |   |   | \n",
      "\r",
      "3  |   |   |   |   |   |   |   | \n",
      "\r",
      "4  |   |   |   |   |   |   |   | \n",
      "\r",
      "5  |   |   |   |   |   |   |   | \n",
      "\r",
      "6  |   |   |   |   |   |   |   | \n",
      "\r\n"
     ]
    }
   ],
   "source": [
    "print(\"\\nNew state:\\n{}\".format(new_game.to_string()))"
   ]
  },
  {
   "cell_type": "markdown",
   "metadata": {},
   "source": [
    "play the remainder of the game automatically -- outcome can be \"illegal move\", \"timeout\", or \"forfeit\""
   ]
  },
  {
   "cell_type": "code",
   "execution_count": 22,
   "metadata": {
    "collapsed": true
   },
   "outputs": [],
   "source": [
    "winner, history, outcome = game.play()"
   ]
  },
  {
   "cell_type": "code",
   "execution_count": 23,
   "metadata": {
    "collapsed": false
   },
   "outputs": [
    {
     "name": "stdout",
     "output_type": "stream",
     "text": [
      "\n",
      "Winner: <sample_players.GreedyPlayer object at 0x0000021D60FCC668>\n",
      "Outcome: illegal move\n"
     ]
    }
   ],
   "source": [
    "print(\"\\nWinner: {}\\nOutcome: {}\".format(winner, outcome))"
   ]
  },
  {
   "cell_type": "code",
   "execution_count": 24,
   "metadata": {
    "collapsed": false
   },
   "outputs": [
    {
     "name": "stdout",
     "output_type": "stream",
     "text": [
      "     0   1   2   3   4   5   6\n",
      "\r",
      "0  |   | - | - | - | - | - |   | \n",
      "\r",
      "1  | - |   | - | 2 | - | - |   | \n",
      "\r",
      "2  | - | - | - | - | - | - | - | \n",
      "\r",
      "3  |   | - | - | - | - | - |   | \n",
      "\r",
      "4  |   | - | - | - | - | - |   | \n",
      "\r",
      "5  | - |   |   | - | - |   |   | \n",
      "\r",
      "6  |   |   | - |   |   |   | 1 | \n",
      "\r\n"
     ]
    }
   ],
   "source": [
    "print(game.to_string())"
   ]
  },
  {
   "cell_type": "code",
   "execution_count": 25,
   "metadata": {
    "collapsed": false
   },
   "outputs": [
    {
     "name": "stdout",
     "output_type": "stream",
     "text": [
      "Move history:\n",
      "[[1, 5], [2, 4], [0, 3], [4, 3], [2, 2], [3, 5], [4, 1], [5, 4], [6, 2], [4, 2], [5, 0], [3, 4], [3, 1], [5, 3], [1, 0], [3, 2], [0, 2], [4, 4], [2, 1], [2, 5], [3, 3], [0, 4], [1, 4], [1, 2], [2, 6], [2, 0], [4, 5], [0, 1], [6, 6], [1, 3]]\n"
     ]
    }
   ],
   "source": [
    "print(\"Move history:\\n{!s}\".format(history))"
   ]
  },
  {
   "cell_type": "code",
   "execution_count": null,
   "metadata": {
    "collapsed": true
   },
   "outputs": [],
   "source": []
  }
 ],
 "metadata": {
  "kernelspec": {
   "display_name": "Python 3",
   "language": "python",
   "name": "python3"
  },
  "language_info": {
   "codemirror_mode": {
    "name": "ipython",
    "version": 3
   },
   "file_extension": ".py",
   "mimetype": "text/x-python",
   "name": "python",
   "nbconvert_exporter": "python",
   "pygments_lexer": "ipython3",
   "version": "3.6.0"
  }
 },
 "nbformat": 4,
 "nbformat_minor": 2
}
